{
  "cells": [
    {
      "cell_type": "markdown",
      "metadata": {
        "id": "view-in-github",
        "colab_type": "text"
      },
      "source": [
        "<a href=\"https://colab.research.google.com/github/umarzaib1/Exploratory-Data-Analysis-of-Retail-Data/blob/main/online_retail.ipynb\" target=\"_parent\"><img src=\"https://colab.research.google.com/assets/colab-badge.svg\" alt=\"Open In Colab\"/></a>"
      ]
    },
    {
      "cell_type": "markdown",
      "metadata": {
        "id": "JAoHWVK_d2Rw"
      },
      "source": [
        "# Portfolio Project: Online Retail Exploratory Data Analysis with Python"
      ]
    },
    {
      "cell_type": "markdown",
      "metadata": {
        "id": "s02PdLV1d2R0"
      },
      "source": [
        "## Overview\n",
        "\n",
        "In this project, you will step into the shoes of an entry-level data analyst at an online retail company, helping interpret real-world data to help make a key business decision."
      ]
    },
    {
      "cell_type": "markdown",
      "metadata": {
        "id": "cK-dxFMCd2R1"
      },
      "source": [
        "## Case Study\n",
        "In this project, you will be working with transactional data from an online retail store. The dataset contains information about customer purchases, including product details, quantities, prices, and timestamps. Your task is to explore and analyze this dataset to gain insights into the store's sales trends, customer behavior, and popular products.\n",
        "\n",
        "By conducting exploratory data analysis, you will identify patterns, outliers, and correlations in the data, allowing you to make data-driven decisions and recommendations to optimize the store's operations and improve customer satisfaction. Through visualizations and statistical analysis, you will uncover key trends, such as the busiest sales months, best-selling products, and the store's most valuable customers. Ultimately, this project aims to provide actionable insights that can drive strategic business decisions and enhance the store's overall performance in the competitive online retail market."
      ]
    },
    {
      "cell_type": "markdown",
      "metadata": {
        "id": "oelh0gxEd2R2"
      },
      "source": [
        "## Project Objectives\n",
        "1. Describe data to answer key questions to uncover insights\n",
        "2. Gain valuable insights that will help improve online retail performance\n",
        "3. Provide analytic insights and data-driven recommendations"
      ]
    },
    {
      "cell_type": "markdown",
      "metadata": {
        "id": "EtNllCjfd2R3"
      },
      "source": [
        "## Dataset\n",
        "\n",
        "The dataset you will be working with is the \"Online Retail\" dataset. It contains transactional data of an online retail store from 2010 to 2011. The dataset is available as a .xlsx file named `Online Retail.xlsx`. This data file is already included in the Coursera Jupyter Notebook environment, however if you are working off-platform it can also be downloaded [here](https://archive.ics.uci.edu/ml/machine-learning-databases/00352/Online%20Retail.xlsx).\n",
        "\n",
        "The dataset contains the following columns:\n",
        "\n",
        "- InvoiceNo: Invoice number of the transaction\n",
        "- StockCode: Unique code of the product\n",
        "- Description: Description of the product\n",
        "- Quantity: Quantity of the product in the transaction\n",
        "- InvoiceDate: Date and time of the transaction\n",
        "- UnitPrice: Unit price of the product\n",
        "- CustomerID: Unique identifier of the customer\n",
        "- Country: Country where the transaction occurred"
      ]
    },
    {
      "cell_type": "markdown",
      "metadata": {
        "id": "XB0NQV-hd2R4"
      },
      "source": [
        "## Tasks\n",
        "\n",
        "You may explore this dataset in any way you would like - however if you'd like some help getting started, here are a few ideas:\n",
        "\n",
        "1. Load the dataset into a Pandas DataFrame and display the first few rows to get an overview of the data.\n",
        "2. Perform data cleaning by handling missing values, if any, and removing any redundant or unnecessary columns.\n",
        "3. Explore the basic statistics of the dataset, including measures of central tendency and dispersion.\n",
        "4. Perform data visualization to gain insights into the dataset. Generate appropriate plots, such as histograms, scatter plots, or bar plots, to visualize different aspects of the data.\n",
        "5. Analyze the sales trends over time. Identify the busiest months and days of the week in terms of sales.\n",
        "6. Explore the top-selling products and countries based on the quantity sold.\n",
        "7. Identify any outliers or anomalies in the dataset and discuss their potential impact on the analysis.\n",
        "8. Draw conclusions and summarize your findings from the exploratory data analysis."
      ]
    },
    {
      "cell_type": "markdown",
      "metadata": {
        "id": "EjU93FVad2R4"
      },
      "source": [
        "## Task 1: Load the Data\n",
        "Load the dataset into a Pandas DataFrame and display the first few rows to get an overview of the data."
      ]
    },
    {
      "cell_type": "code",
      "execution_count": null,
      "metadata": {
        "id": "1_tm_XiHd2R5"
      },
      "outputs": [],
      "source": [
        "import pandas as pd\n",
        "\n",
        "data = pd.read_excel('Online Retail.xlsx')\n",
        "#data.head()"
      ]
    },
    {
      "cell_type": "markdown",
      "source": [
        "## Task 2: Data Cleaning\n",
        "Perform data cleaning by handling missing values, if any, and removing any redundant or unnecessary columns."
      ],
      "metadata": {
        "id": "omur_HgLgPcD"
      }
    },
    {
      "cell_type": "markdown",
      "source": [
        "## Droping Rows with null values"
      ],
      "metadata": {
        "id": "AgL6NC8m0uyQ"
      }
    },
    {
      "cell_type": "code",
      "execution_count": null,
      "metadata": {
        "id": "Cpwd3csUd2R6"
      },
      "outputs": [],
      "source": [
        "data.info() # Check data info before cleaning\n",
        "data.shape # check data shape before cleaning"
      ]
    },
    {
      "cell_type": "code",
      "execution_count": null,
      "metadata": {
        "collapsed": true,
        "id": "QOqnSLYHd2R6"
      },
      "outputs": [],
      "source": [
        "# Look for Na values\n",
        "data.isnull().sum()\n",
        "# Droping all rows where Description and CustomerID has NA values\n",
        "data = data.dropna(subset=['Description', 'CustomerID']).reset_index(drop= True)"
      ]
    },
    {
      "cell_type": "code",
      "execution_count": null,
      "metadata": {
        "id": "S6MxQ84Td2R7"
      },
      "outputs": [],
      "source": [
        "data.isnull().sum() # Recheck to see any Na values\n",
        "data.info()  # Check the data info\n",
        "data.shape  # check data shape after droping Na values"
      ]
    },
    {
      "cell_type": "markdown",
      "source": [
        "## Filling Na Values incase one wants to keep them\n",
        "We have to fill the missing values to include them in the rest of the data to avoid problem of less number of instances. **while using this approach you have to avoid running the above two cells.**"
      ],
      "metadata": {
        "id": "tFD9EgGzmKnq"
      }
    },
    {
      "cell_type": "code",
      "execution_count": null,
      "metadata": {
        "colab": {
          "base_uri": "https://localhost:8080/",
          "height": 477
        },
        "collapsed": true,
        "id": "XLj95VRQd2R7",
        "outputId": "57ed283f-c823-4eb5-ddff-473412408067"
      },
      "outputs": [
        {
          "output_type": "stream",
          "name": "stderr",
          "text": [
            "/tmp/ipython-input-4248655941.py:1: FutureWarning: A value is trying to be set on a copy of a DataFrame or Series through chained assignment using an inplace method.\n",
            "The behavior will change in pandas 3.0. This inplace method will never work because the intermediate object on which we are setting values always behaves as a copy.\n",
            "\n",
            "For example, when doing 'df[col].method(value, inplace=True)', try using 'df.method({col: value}, inplace=True)' or df[col] = df[col].method(value) instead, to perform the operation inplace on the original object.\n",
            "\n",
            "\n",
            "  data['Description'].fillna(\"Missing\", inplace= True)\n"
          ]
        },
        {
          "output_type": "execute_result",
          "data": {
            "text/plain": [
              "InvoiceNo           0\n",
              "StockCode           0\n",
              "Description         0\n",
              "Quantity            0\n",
              "InvoiceDate         0\n",
              "UnitPrice           0\n",
              "CustomerID     135080\n",
              "Country             0\n",
              "dtype: int64"
            ],
            "text/html": [
              "<div>\n",
              "<style scoped>\n",
              "    .dataframe tbody tr th:only-of-type {\n",
              "        vertical-align: middle;\n",
              "    }\n",
              "\n",
              "    .dataframe tbody tr th {\n",
              "        vertical-align: top;\n",
              "    }\n",
              "\n",
              "    .dataframe thead th {\n",
              "        text-align: right;\n",
              "    }\n",
              "</style>\n",
              "<table border=\"1\" class=\"dataframe\">\n",
              "  <thead>\n",
              "    <tr style=\"text-align: right;\">\n",
              "      <th></th>\n",
              "      <th>0</th>\n",
              "    </tr>\n",
              "  </thead>\n",
              "  <tbody>\n",
              "    <tr>\n",
              "      <th>InvoiceNo</th>\n",
              "      <td>0</td>\n",
              "    </tr>\n",
              "    <tr>\n",
              "      <th>StockCode</th>\n",
              "      <td>0</td>\n",
              "    </tr>\n",
              "    <tr>\n",
              "      <th>Description</th>\n",
              "      <td>0</td>\n",
              "    </tr>\n",
              "    <tr>\n",
              "      <th>Quantity</th>\n",
              "      <td>0</td>\n",
              "    </tr>\n",
              "    <tr>\n",
              "      <th>InvoiceDate</th>\n",
              "      <td>0</td>\n",
              "    </tr>\n",
              "    <tr>\n",
              "      <th>UnitPrice</th>\n",
              "      <td>0</td>\n",
              "    </tr>\n",
              "    <tr>\n",
              "      <th>CustomerID</th>\n",
              "      <td>135080</td>\n",
              "    </tr>\n",
              "    <tr>\n",
              "      <th>Country</th>\n",
              "      <td>0</td>\n",
              "    </tr>\n",
              "  </tbody>\n",
              "</table>\n",
              "</div><br><label><b>dtype:</b> int64</label>"
            ]
          },
          "metadata": {},
          "execution_count": 23
        }
      ],
      "source": [
        "# filling the missing values in Description Columns with \"Missing\" String\n",
        "data['Description'].fillna(\"Missing\", inplace= True)\n",
        "data.isnull().sum()"
      ]
    },
    {
      "cell_type": "code",
      "source": [
        "data.fillna({'CustomerID':\"Missing Description\"}, inplace = True)\n",
        "data.isnull().sum()"
      ],
      "metadata": {
        "colab": {
          "base_uri": "https://localhost:8080/",
          "height": 335
        },
        "collapsed": true,
        "id": "Ah8q0YMhpR6_",
        "outputId": "dffe516f-c581-48a7-ad1f-254a6f68167e"
      },
      "execution_count": null,
      "outputs": [
        {
          "output_type": "execute_result",
          "data": {
            "text/plain": [
              "InvoiceNo      0\n",
              "StockCode      0\n",
              "Description    0\n",
              "Quantity       0\n",
              "InvoiceDate    0\n",
              "UnitPrice      0\n",
              "CustomerID     0\n",
              "Country        0\n",
              "dtype: int64"
            ],
            "text/html": [
              "<div>\n",
              "<style scoped>\n",
              "    .dataframe tbody tr th:only-of-type {\n",
              "        vertical-align: middle;\n",
              "    }\n",
              "\n",
              "    .dataframe tbody tr th {\n",
              "        vertical-align: top;\n",
              "    }\n",
              "\n",
              "    .dataframe thead th {\n",
              "        text-align: right;\n",
              "    }\n",
              "</style>\n",
              "<table border=\"1\" class=\"dataframe\">\n",
              "  <thead>\n",
              "    <tr style=\"text-align: right;\">\n",
              "      <th></th>\n",
              "      <th>0</th>\n",
              "    </tr>\n",
              "  </thead>\n",
              "  <tbody>\n",
              "    <tr>\n",
              "      <th>InvoiceNo</th>\n",
              "      <td>0</td>\n",
              "    </tr>\n",
              "    <tr>\n",
              "      <th>StockCode</th>\n",
              "      <td>0</td>\n",
              "    </tr>\n",
              "    <tr>\n",
              "      <th>Description</th>\n",
              "      <td>0</td>\n",
              "    </tr>\n",
              "    <tr>\n",
              "      <th>Quantity</th>\n",
              "      <td>0</td>\n",
              "    </tr>\n",
              "    <tr>\n",
              "      <th>InvoiceDate</th>\n",
              "      <td>0</td>\n",
              "    </tr>\n",
              "    <tr>\n",
              "      <th>UnitPrice</th>\n",
              "      <td>0</td>\n",
              "    </tr>\n",
              "    <tr>\n",
              "      <th>CustomerID</th>\n",
              "      <td>0</td>\n",
              "    </tr>\n",
              "    <tr>\n",
              "      <th>Country</th>\n",
              "      <td>0</td>\n",
              "    </tr>\n",
              "  </tbody>\n",
              "</table>\n",
              "</div><br><label><b>dtype:</b> int64</label>"
            ]
          },
          "metadata": {},
          "execution_count": 29
        }
      ]
    },
    {
      "cell_type": "markdown",
      "source": [
        "## Handling Duplicated values\n",
        "Looking for any duplicated rows to drop them"
      ],
      "metadata": {
        "id": "8XwexpaM1-8v"
      }
    },
    {
      "cell_type": "code",
      "source": [
        "data"
      ],
      "metadata": {
        "id": "fRbiVSC66epG"
      },
      "execution_count": null,
      "outputs": []
    },
    {
      "cell_type": "code",
      "source": [
        "data.duplicated().sum() # cheack number of duplicates\n",
        "\n",
        "duplicated = data[data.duplicated()] # Get all the duplicated rows\n",
        "data.drop_duplicates(duplicated, inplace=True) # drop the duplicated rows\n",
        "\n",
        "data.shape"
      ],
      "metadata": {
        "id": "UWSXM_ko1DiT",
        "colab": {
          "base_uri": "https://localhost:8080/"
        },
        "outputId": "ba086b55-44cd-4f94-ef21-a242fb344e06"
      },
      "execution_count": null,
      "outputs": [
        {
          "output_type": "execute_result",
          "data": {
            "text/plain": [
              "(401604, 8)"
            ]
          },
          "metadata": {},
          "execution_count": 5
        }
      ]
    },
    {
      "cell_type": "markdown",
      "source": [
        "## Task 3: Basic Data Statistics\n",
        "Explore the basic statistics of the dataset, including measures of central tendency and dispersion."
      ],
      "metadata": {
        "id": "X4AbsyOsGOJA"
      }
    },
    {
      "cell_type": "code",
      "source": [
        "description = data.describe()\n",
        "max_price = data['UnitPrice'].max()\n",
        "min_price = data['UnitPrice'].min()\n",
        "avg_price = data['UnitPrice'].mean().round(2)"
      ],
      "metadata": {
        "id": "NB3VLWiZGNYG"
      },
      "execution_count": null,
      "outputs": []
    },
    {
      "cell_type": "markdown",
      "source": [
        "## Task 4: Data Visualizations with Matplotlib and Seaborn\n",
        "Perform data visualization to gain insights into the dataset. Generate appropriate plots, such as histograms, scatter plots, or bar plots, to visualize different aspects of the data."
      ],
      "metadata": {
        "id": "ypTBZ3Mqmv9y"
      }
    },
    {
      "cell_type": "code",
      "source": [
        "import seaborn as sns\n",
        "import matplotlib.pyplot as plt\n",
        "\n",
        "# Assuming 'data' is your DataFrame after cleaning\n",
        "# If you used a different variable name, replace 'data' with it\n",
        "\n",
        "# Create the histogram using seaborn\n",
        "sns.histplot(data=data, x='UnitPrice', bins=50)\n",
        "\n",
        "# Set the x-axis limits to focus on the lower range\n",
        "# Adjust the upper limit (e.g., 100) based on what you saw in the full histogram\n",
        "plt.xlim(0, 1000)\n",
        "\n",
        "# Add title and labels for clarity\n",
        "plt.title(\"Distribution of Unit Price (Zoomed View)\")\n",
        "plt.xlabel(\"Unit Price\")\n",
        "plt.ylabel(\"Frequency\")\n",
        "\n",
        "# Show the plot\n",
        "plt.show()"
      ],
      "metadata": {
        "colab": {
          "base_uri": "https://localhost:8080/",
          "height": 472
        },
        "id": "UV56EtxwrIcK",
        "outputId": "2515a757-c304-43e8-fb20-4a9defbcd52a"
      },
      "execution_count": null,
      "outputs": [
        {
          "output_type": "display_data",
          "data": {
            "text/plain": [
              "<Figure size 640x480 with 1 Axes>"
            ],
            "image/png": "[encoded data removed]"
          },
          "metadata": {}
        }
      ]
    },
    {
      "cell_type": "markdown",
      "source": [
        "## Task 5: Analyze trends\n",
        "Analyze the sales trends over time. Identify the busiest months and days of the week in terms of sales.\n"
      ],
      "metadata": {
        "id": "Qu6HtK0HKwi0"
      }
    },
    {
      "cell_type": "code",
      "source": [
        "# Convert 'InvoiceDate' column to datetime objects\n",
        "data['InvoiceDate'] = pd.to_datetime(data['InvoiceDate'])\n",
        "\n",
        "# Calculate the total price for each transaction line item\n",
        "data['TotalPrice'] = data['Quantity'] * data['UnitPrice']\n",
        "\n",
        "# Display the first few rows with the new column\n",
        "display(data.head())\n",
        "\n",
        "# Display the data types to confirm the change\n",
        "print(data.info())"
      ],
      "metadata": {
        "id": "BjIQabwUr0a6"
      },
      "execution_count": null,
      "outputs": []
    },
    {
      "cell_type": "code",
      "metadata": {
        "id": "cc387b18"
      },
      "source": [
        "# Extract month and day of the week from InvoiceDate\n",
        "data['YearMonth'] = data['InvoiceDate'].dt.to_period('M')\n",
        "data['DayOfWeek'] = data['InvoiceDate'].dt.day_name()\n",
        "\n",
        "# Analyze sales trends by month\n",
        "monthly_sales = data.groupby('YearMonth')['TotalPrice'].sum().sort_index()\n",
        "print(\"Monthly Sales Trends:\")\n",
        "display(monthly_sales)\n",
        "\n",
        "# Analyze sales trends by day of the week\n",
        "# Ensure the days are in order\n",
        "days_order = ['Monday', 'Tuesday', 'Wednesday', 'Thursday', 'Friday', 'Saturday', 'Sunday']\n",
        "data['DayOfWeek'] = pd.Categorical(data['DayOfWeek'], categories=days_order, ordered=True)\n",
        "daily_sales = data.groupby('DayOfWeek')['TotalPrice'].sum()\n",
        "print(\"\\nDaily Sales Trends:\")\n",
        "display(daily_sales)"
      ],
      "execution_count": null,
      "outputs": []
    },
    {
      "cell_type": "markdown",
      "source": [
        "## Task 6: Explore top selling product and countries\n",
        "Explore the top-selling products and countries based on the quantity sold."
      ],
      "metadata": {
        "id": "CZLYYxaeK3V_"
      }
    },
    {
      "cell_type": "code",
      "metadata": {
        "id": "139464de"
      },
      "source": [
        "# Analyze top selling products\n",
        "top_products = data.groupby('Description')['Quantity'].sum().sort_values(ascending=False).head(10)\n",
        "print(\"Top 10 Selling Products:\")\n",
        "display(top_products)\n",
        "\n",
        "# Analyze top selling countries\n",
        "top_countries = data.groupby('Country')['TotalPrice'].sum().sort_values(ascending=False).head(10)\n",
        "print(\"\\nTop 10 Selling Countries:\")\n",
        "display(top_countries)"
      ],
      "execution_count": null,
      "outputs": []
    },
    {
      "cell_type": "markdown",
      "metadata": {
        "id": "a5c09474"
      },
      "source": [
        "## Task 7: Identify Outliers and Anomalies\n",
        "Identify any outliers or anomalies in the dataset and discuss their potential impact on the analysis."
      ]
    },
    {
      "cell_type": "code",
      "metadata": {
        "colab": {
          "base_uri": "https://localhost:8080/",
          "height": 338
        },
        "id": "a1cb51cb",
        "outputId": "0e030c3f-fc35-4daa-aaa0-b972cb6420d4"
      },
      "source": [
        "# Identify outliers in Quantity and UnitPrice\n",
        "plt.figure(figsize=(12, 5))\n",
        "\n",
        "plt.subplot(1, 2, 1)\n",
        "sns.boxplot(x=data['Quantity'])\n",
        "plt.title('Boxplot of Quantity')\n",
        "\n",
        "plt.subplot(1, 2, 2)\n",
        "sns.boxplot(x=data['UnitPrice'])\n",
        "plt.title('Boxplot of UnitPrice')\n",
        "\n",
        "plt.tight_layout()\n",
        "plt.show()"
      ],
      "execution_count": null,
      "outputs": [
        {
          "output_type": "display_data",
          "data": {
            "text/plain": [
              "<Figure size 1200x500 with 2 Axes>"
            ],
            "image/png": "[encoded data removed]"
          },
          "metadata": {}
        }
      ]
    },
    {
      "cell_type": "markdown",
      "metadata": {
        "id": "9545e3d2"
      },
      "source": [
        "## Task 8: Draw Conclusions and Summarize Findings\n",
        "Draw conclusions and summarize your findings from the exploratory data analysis."
      ]
    },
    {
      "cell_type": "markdown",
      "metadata": {
        "id": "e1f474fb"
      },
      "source": [
        "Based on the analysis performed, here are some key findings and potential recommendations:\n",
        "\n",
        "**Sales Trends:**\n",
        "*   Identify the months with the highest and lowest sales and discuss potential reasons.\n",
        "*   Analyze the daily sales trends and note any interesting patterns (e.g., lower sales on weekends).\n",
        "\n",
        "**Top Products and Countries:**\n",
        "*   Summarize the top-selling products and consider strategies to promote them further.\n",
        "*   Discuss the top-performing countries and potential reasons for their high sales.\n",
        "\n",
        "**Outliers and Anomalies:**\n",
        "*   Reflect on the outliers identified in 'Quantity' and 'UnitPrice'. Discuss their potential impact on the analysis and whether they should be further investigated or handled. For instance, negative quantities might indicate returns, and extremely high unit prices could be data errors or high-value items.\n",
        "\n",
        "**Recommendations:**\n",
        "*   Based on the sales trends, suggest optimal times for marketing campaigns or stocking inventory.\n",
        "*   Propose strategies to boost sales in lower-performing months or days.\n",
        "*   Suggest ways to leverage the popularity of top-selling products and explore opportunities in top-performing countries.\n",
        "*   Recommend further investigation into the identified outliers to understand their cause and impact.\n",
        "\n",
        "This is a starting point, and you can add more specific insights and recommendations based on your detailed analysis of the data."
      ]
    }
  ],
  "metadata": {
    "kernelspec": {
      "display_name": "Python 3",
      "language": "python",
      "name": "python3"
    },
    "language_info": {
      "codemirror_mode": {
        "name": "ipython",
        "version": 3
      },
      "file_extension": ".py",
      "mimetype": "text/x-python",
      "name": "python",
      "nbconvert_exporter": "python",
      "pygments_lexer": "ipython3",
      "version": "3.7.6"
    },
    "colab": {
      "provenance": [],
      "include_colab_link": true
    }
  },
  "nbformat": 4,
  "nbformat_minor": 0
}